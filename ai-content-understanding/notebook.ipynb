{
 "cells": [
  {
   "cell_type": "markdown",
   "metadata": {},
   "source": [
    "# Azure AI Content Understanding"
   ]
  },
  {
   "cell_type": "markdown",
   "metadata": {},
   "source": [
    "Deploy a custom template"
   ]
  },
  {
   "cell_type": "markdown",
   "metadata": {},
   "source": [
    "Deploy now"
   ]
  },
  {
   "cell_type": "markdown",
   "metadata": {},
   "source": [
    "Yes, you can share your custom templates with others using Azure Resource Manager template specs. Here's how you can do it:\n",
    "\n",
    "Create a Template Spec:\n",
    "\n",
    "In the Azure portal, navigate to the Resource Manager templates section.\n",
    "Select \"Template specs\" and click \"Create\".\n",
    "Fill in the required details, including the template content.\n",
    "Manage Access:\n",
    "\n",
    "Use Azure role-based access control (RBAC) to manage who can access the template spec. You can grant read access to users so they can deploy the template without modifying it1.\n",
    "Deploy the Template Spec:\n",
    "\n",
    "Users can deploy the template spec using standard Azure tools like PowerShell, Azure CLI, Azure portal, REST, and other supported SDKs1.\n",
    "Versioning:\n",
    "\n",
    "Template specs support versioning, allowing you to maintain different versions of your templates1.\n",
    "For more detailed instructions, you can refer to the Azure Resource Manager template specs guide1.\n",
    "\n",
    "Would you like help with setting up a specific template spec or managing access permissions?"
   ]
  },
  {
   "cell_type": "markdown",
   "metadata": {},
   "source": [
    "template specs"
   ]
  }
 ],
 "metadata": {
  "language_info": {
   "name": "python"
  }
 },
 "nbformat": 4,
 "nbformat_minor": 2
}
